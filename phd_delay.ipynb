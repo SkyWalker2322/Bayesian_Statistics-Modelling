{
 "cells": [
  {
   "cell_type": "code",
   "execution_count": 2,
   "metadata": {},
   "outputs": [
    {
     "name": "stderr",
     "output_type": "stream",
     "text": [
      "WARNING (theano.tensor.blas): Using NumPy C-API based implementation for BLAS functions.\n"
     ]
    }
   ],
   "source": [
    "# implementing bayesian statistics on dataset phd-delays.csv\n",
    "\n",
    "import pandas as pd\n",
    "import numpy as np\n",
    "import matplotlib.pyplot as plt\n",
    "import pymc3 as pm\n",
    "import arviz as az\n",
    "import sklearn as sk\n",
    "import warnings\n",
    "warnings.filterwarnings('ignore')"
   ]
  },
  {
   "cell_type": "code",
   "execution_count": 3,
   "metadata": {},
   "outputs": [],
   "source": [
    "# reading the dataset\n",
    "df = pd.read_csv('phd-delays.csv', delimiter=';')\n",
    "df.columns = ['B3_difference_extra','E4_having_child','E21_sex','E22_Age','E22_Age_Squared']\n",
    "\n",
    "def standardize(series):\n",
    "    \"\"\"Standardize a pandas series\"\"\"\n",
    "    return (series - series.mean()) / series.std()\n",
    "\n",
    "standardize(df['B3_difference_extra'])\n",
    "standardize(df['E22_Age'])\n",
    "standardize(df['E22_Age_Squared'])\n",
    "#split the dataset\n",
    "X = df[['E22_Age','E22_Age_Squared']]\n",
    "y = df['B3_difference_extra']\n",
    "import sklearn.model_selection as skm\n",
    "X_train, X_test, y_train, y_test = skm.train_test_split(X, y, test_size=0.2, random_state=42)\n"
   ]
  },
  {
   "cell_type": "code",
   "execution_count": 19,
   "metadata": {},
   "outputs": [
    {
     "name": "stderr",
     "output_type": "stream",
     "text": [
      "Auto-assigning NUTS sampler...\n",
      "Initializing NUTS using adapt_diag...\n",
      "Multiprocess sampling (4 chains in 4 jobs)\n",
      "NUTS: [sg, b_1, b_0, b_intercept]\n"
     ]
    },
    {
     "data": {
      "text/html": [
       "\n",
       "<style>\n",
       "    /* Turns off some styling */\n",
       "    progress {\n",
       "        /* gets rid of default border in Firefox and Opera. */\n",
       "        border: none;\n",
       "        /* Needs to be in here for Safari polyfill so background images work as expected. */\n",
       "        background-size: auto;\n",
       "    }\n",
       "    progress:not([value]), progress:not([value])::-webkit-progress-bar {\n",
       "        background: repeating-linear-gradient(45deg, #7e7e7e, #7e7e7e 10px, #5c5c5c 10px, #5c5c5c 20px);\n",
       "    }\n",
       "    .progress-bar-interrupted, .progress-bar-interrupted::-webkit-progress-bar {\n",
       "        background: #F44336;\n",
       "    }\n",
       "</style>\n"
      ],
      "text/plain": [
       "<IPython.core.display.HTML object>"
      ]
     },
     "metadata": {},
     "output_type": "display_data"
    },
    {
     "data": {
      "text/html": [
       "\n",
       "    <div>\n",
       "      <progress value='12000' class='' max='12000' style='width:300px; height:20px; vertical-align: middle;'></progress>\n",
       "      100.00% [12000/12000 00:22&lt;00:00 Sampling 4 chains, 0 divergences]\n",
       "    </div>\n",
       "    "
      ],
      "text/plain": [
       "<IPython.core.display.HTML object>"
      ]
     },
     "metadata": {},
     "output_type": "display_data"
    },
    {
     "name": "stderr",
     "output_type": "stream",
     "text": [
      "Sampling 4 chains for 2_000 tune and 1_000 draw iterations (8_000 + 4_000 draws total) took 22 seconds.\n",
      "The number of effective samples is smaller than 25% for some parameters.\n"
     ]
    }
   ],
   "source": [
    "\n",
    "# creating a model for y = b_intercept + b_0*age + b_1*age^2 + e\n",
    "mu_ = 0\n",
    "sd = 100\n",
    "with pm.Model() as model:\n",
    "    # mu_ = pm.Uniform('mean_gen' , lower = -10, upper = 20)\n",
    "    b_intercept = pm.Normal('b_intercept',mu = mu_, sigma=sd)\n",
    "    b_0 = pm.Normal('b_0' , mu = mu_ , sigma=sd)\n",
    "    b_1 = pm.Normal('b_1' , mu = mu_, sigma = sd)\n",
    "\n",
    "    sg = pm.HalfNormal('sg' , sigma=1)\n",
    "    likelihood = pm.Normal('y', mu=b_intercept + b_0*X_train['E22_Age'] + b_1*X_train['E22_Age_Squared'], sigma=sg, observed=y_train)\n",
    "\n",
    "    # perform inference\n",
    "    trace = pm.sample(10000,init='adapt_diag',tune = 2000, target_accept = 0.95)\n",
    "    # prior_checks = pm.sample_prior_predictive(samples = 300)\n",
    "\n"
   ]
  },
  {
   "cell_type": "code",
   "execution_count": 28,
   "metadata": {},
   "outputs": [
    {
     "name": "stderr",
     "output_type": "stream",
     "text": [
      "Got error No model on context stack. trying to find log_likelihood in translation.\n"
     ]
    },
    {
     "data": {
      "text/html": [
       "\n",
       "<style>\n",
       "    /* Turns off some styling */\n",
       "    progress {\n",
       "        /* gets rid of default border in Firefox and Opera. */\n",
       "        border: none;\n",
       "        /* Needs to be in here for Safari polyfill so background images work as expected. */\n",
       "        background-size: auto;\n",
       "    }\n",
       "    progress:not([value]), progress:not([value])::-webkit-progress-bar {\n",
       "        background: repeating-linear-gradient(45deg, #7e7e7e, #7e7e7e 10px, #5c5c5c 10px, #5c5c5c 20px);\n",
       "    }\n",
       "    .progress-bar-interrupted, .progress-bar-interrupted::-webkit-progress-bar {\n",
       "        background: #F44336;\n",
       "    }\n",
       "</style>\n"
      ],
      "text/plain": [
       "<IPython.core.display.HTML object>"
      ]
     },
     "metadata": {},
     "output_type": "display_data"
    },
    {
     "data": {
      "text/html": [
       "\n",
       "    <div>\n",
       "      <progress value='300' class='' max='300' style='width:300px; height:20px; vertical-align: middle;'></progress>\n",
       "      100.00% [300/300 00:00&lt;00:00]\n",
       "    </div>\n",
       "    "
      ],
      "text/plain": [
       "<IPython.core.display.HTML object>"
      ]
     },
     "metadata": {},
     "output_type": "display_data"
    },
    {
     "name": "stderr",
     "output_type": "stream",
     "text": [
      "Got error No model on context stack. trying to find log_likelihood in translation.\n"
     ]
    },
    {
     "data": {
      "text/html": [
       "<div>\n",
       "<style scoped>\n",
       "    .dataframe tbody tr th:only-of-type {\n",
       "        vertical-align: middle;\n",
       "    }\n",
       "\n",
       "    .dataframe tbody tr th {\n",
       "        vertical-align: top;\n",
       "    }\n",
       "\n",
       "    .dataframe thead th {\n",
       "        text-align: right;\n",
       "    }\n",
       "</style>\n",
       "<table border=\"1\" class=\"dataframe\">\n",
       "  <thead>\n",
       "    <tr style=\"text-align: right;\">\n",
       "      <th></th>\n",
       "      <th>mean</th>\n",
       "      <th>sd</th>\n",
       "      <th>hdi_3%</th>\n",
       "      <th>hdi_97%</th>\n",
       "      <th>mcse_mean</th>\n",
       "      <th>mcse_sd</th>\n",
       "      <th>ess_bulk</th>\n",
       "      <th>ess_tail</th>\n",
       "      <th>r_hat</th>\n",
       "    </tr>\n",
       "  </thead>\n",
       "  <tbody>\n",
       "    <tr>\n",
       "      <th>b_intercept</th>\n",
       "      <td>-40.445</td>\n",
       "      <td>10.881</td>\n",
       "      <td>-61.203</td>\n",
       "      <td>-20.247</td>\n",
       "      <td>0.374</td>\n",
       "      <td>0.264</td>\n",
       "      <td>841.0</td>\n",
       "      <td>1098.0</td>\n",
       "      <td>1.01</td>\n",
       "    </tr>\n",
       "    <tr>\n",
       "      <th>b_0</th>\n",
       "      <td>2.356</td>\n",
       "      <td>0.512</td>\n",
       "      <td>1.384</td>\n",
       "      <td>3.290</td>\n",
       "      <td>0.018</td>\n",
       "      <td>0.013</td>\n",
       "      <td>834.0</td>\n",
       "      <td>1040.0</td>\n",
       "      <td>1.01</td>\n",
       "    </tr>\n",
       "    <tr>\n",
       "      <th>b_1</th>\n",
       "      <td>-0.023</td>\n",
       "      <td>0.005</td>\n",
       "      <td>-0.032</td>\n",
       "      <td>-0.013</td>\n",
       "      <td>0.000</td>\n",
       "      <td>0.000</td>\n",
       "      <td>853.0</td>\n",
       "      <td>1066.0</td>\n",
       "      <td>1.01</td>\n",
       "    </tr>\n",
       "    <tr>\n",
       "      <th>sg</th>\n",
       "      <td>11.447</td>\n",
       "      <td>0.343</td>\n",
       "      <td>10.787</td>\n",
       "      <td>12.070</td>\n",
       "      <td>0.009</td>\n",
       "      <td>0.006</td>\n",
       "      <td>1582.0</td>\n",
       "      <td>1519.0</td>\n",
       "      <td>1.00</td>\n",
       "    </tr>\n",
       "  </tbody>\n",
       "</table>\n",
       "</div>"
      ],
      "text/plain": [
       "               mean      sd  hdi_3%  hdi_97%  mcse_mean  mcse_sd  ess_bulk  \\\n",
       "b_intercept -40.445  10.881 -61.203  -20.247      0.374    0.264     841.0   \n",
       "b_0           2.356   0.512   1.384    3.290      0.018    0.013     834.0   \n",
       "b_1          -0.023   0.005  -0.032   -0.013      0.000    0.000     853.0   \n",
       "sg           11.447   0.343  10.787   12.070      0.009    0.006    1582.0   \n",
       "\n",
       "             ess_tail  r_hat  \n",
       "b_intercept    1098.0   1.01  \n",
       "b_0            1040.0   1.01  \n",
       "b_1            1066.0   1.01  \n",
       "sg             1519.0   1.00  "
      ]
     },
     "execution_count": 28,
     "metadata": {},
     "output_type": "execute_result"
    },
    {
     "data": {
      "image/png": "[encoded data removed]",
      "text/plain": [
       "<Figure size 1490.4x1324.8 with 12 Axes>"
      ]
     },
     "metadata": {
      "needs_background": "light"
     },
     "output_type": "display_data"
    }
   ],
   "source": [
    "pm.autocorrplot(trace, var_names=['b_intercept','b_0','b_1'])\n",
    "\n",
    "# perform prior predictive checks on the model\n",
    "with model:\n",
    "    prior_checks = pm.sample_prior_predictive(samples = 300)\n",
    "    posterior_checks = pm.sample_posterior_predictive(trace, samples =300)\n",
    "\n",
    "az.summary(trace)\n",
    "# compare posterior predictive with observed data\n",
    "# y_pred = trace[:2000].get_values('y')\n",
    "\n",
    "# histo of the posterior predictive\n",
    "# plt.hist(posterior_checks['y'].flatten(), bins=50, density=True, alpha=0.5, label='posterior predictive checks')\n",
    "# plt.hist(y_train, bins=50, density=True, alpha=0.5, label='observed data')\n",
    "# plt.legend(loc=0)\n",
    "# plt.show()"
   ]
  },
  {
   "cell_type": "code",
   "execution_count": 13,
   "metadata": {},
   "outputs": [
    {
     "ename": "ValueError",
     "evalue": "unexpected array size: new_size=1, got array with arr_size=0\n",
     "output_type": "error",
     "traceback": [
      "\u001b[0;31m---------------------------------------------------------------------------\u001b[0m",
      "\u001b[0;31mValueError\u001b[0m                                Traceback (most recent call last)",
      "\u001b[1;32m/home/namrath/SMAI-Project/Team-3-Bayesian_Statistics-Modelling/phd_delay.ipynb Cell 5\u001b[0m in \u001b[0;36m<module>\u001b[0;34m\u001b[0m\n\u001b[1;32m      <a href='vscode-notebook-cell:/home/namrath/SMAI-Project/Team-3-Bayesian_Statistics-Modelling/phd_delay.ipynb#X10sZmlsZQ%3D%3D?line=0'>1</a>\u001b[0m \u001b[39m# performing bayes factor analysis\u001b[39;00m\n\u001b[1;32m      <a href='vscode-notebook-cell:/home/namrath/SMAI-Project/Team-3-Bayesian_Statistics-Modelling/phd_delay.ipynb#X10sZmlsZQ%3D%3D?line=1'>2</a>\u001b[0m \u001b[39mwith\u001b[39;00m model:\n\u001b[1;32m      <a href='vscode-notebook-cell:/home/namrath/SMAI-Project/Team-3-Bayesian_Statistics-Modelling/phd_delay.ipynb#X10sZmlsZQ%3D%3D?line=2'>3</a>\u001b[0m     \u001b[39m# compute the bayes factor for the model\u001b[39;00m\n\u001b[0;32m----> <a href='vscode-notebook-cell:/home/namrath/SMAI-Project/Team-3-Bayesian_Statistics-Modelling/phd_delay.ipynb#X10sZmlsZQ%3D%3D?line=3'>4</a>\u001b[0m     bf \u001b[39m=\u001b[39m pm\u001b[39m.\u001b[39;49mcompare({\u001b[39m'\u001b[39;49m\u001b[39mmodel\u001b[39;49m\u001b[39m'\u001b[39;49m:trace}, ic\u001b[39m=\u001b[39;49m\u001b[39m'\u001b[39;49m\u001b[39mWAIC\u001b[39;49m\u001b[39m'\u001b[39;49m)\n\u001b[1;32m      <a href='vscode-notebook-cell:/home/namrath/SMAI-Project/Team-3-Bayesian_Statistics-Modelling/phd_delay.ipynb#X10sZmlsZQ%3D%3D?line=4'>5</a>\u001b[0m     \u001b[39mprint\u001b[39m(bf)\n",
      "File \u001b[0;32m~/.local/lib/python3.8/site-packages/arviz/stats/stats.py:265\u001b[0m, in \u001b[0;36mcompare\u001b[0;34m(compare_dict, ic, method, b_samples, alpha, seed, scale, var_name)\u001b[0m\n\u001b[1;32m    259\u001b[0m bounds \u001b[39m=\u001b[39m [(\u001b[39m0.0\u001b[39m, \u001b[39m1.0\u001b[39m) \u001b[39mfor\u001b[39;00m _ \u001b[39min\u001b[39;00m \u001b[39mrange\u001b[39m(km1)]\n\u001b[1;32m    260\u001b[0m constraints \u001b[39m=\u001b[39m [\n\u001b[1;32m    261\u001b[0m     {\u001b[39m\"\u001b[39m\u001b[39mtype\u001b[39m\u001b[39m\"\u001b[39m: \u001b[39m\"\u001b[39m\u001b[39mineq\u001b[39m\u001b[39m\"\u001b[39m, \u001b[39m\"\u001b[39m\u001b[39mfun\u001b[39m\u001b[39m\"\u001b[39m: \u001b[39mlambda\u001b[39;00m x: \u001b[39m-\u001b[39mnp\u001b[39m.\u001b[39msum(x) \u001b[39m+\u001b[39m \u001b[39m1.0\u001b[39m},\n\u001b[1;32m    262\u001b[0m     {\u001b[39m\"\u001b[39m\u001b[39mtype\u001b[39m\u001b[39m\"\u001b[39m: \u001b[39m\"\u001b[39m\u001b[39mineq\u001b[39m\u001b[39m\"\u001b[39m, \u001b[39m\"\u001b[39m\u001b[39mfun\u001b[39m\u001b[39m\"\u001b[39m: np\u001b[39m.\u001b[39msum},\n\u001b[1;32m    263\u001b[0m ]\n\u001b[0;32m--> 265\u001b[0m weights \u001b[39m=\u001b[39m minimize(\n\u001b[1;32m    266\u001b[0m     fun\u001b[39m=\u001b[39;49mlog_score, x0\u001b[39m=\u001b[39;49mtheta, jac\u001b[39m=\u001b[39;49mgradient, bounds\u001b[39m=\u001b[39;49mbounds, constraints\u001b[39m=\u001b[39;49mconstraints\n\u001b[1;32m    267\u001b[0m )\n\u001b[1;32m    269\u001b[0m weights \u001b[39m=\u001b[39m w_fuller(weights[\u001b[39m\"\u001b[39m\u001b[39mx\u001b[39m\u001b[39m\"\u001b[39m])\n\u001b[1;32m    270\u001b[0m ses \u001b[39m=\u001b[39m ics[ic_se]\n",
      "File \u001b[0;32m~/.local/lib/python3.8/site-packages/scipy/optimize/_minimize.py:631\u001b[0m, in \u001b[0;36mminimize\u001b[0;34m(fun, x0, args, method, jac, hess, hessp, bounds, constraints, tol, callback, options)\u001b[0m\n\u001b[1;32m    629\u001b[0m     \u001b[39mreturn\u001b[39;00m _minimize_cobyla(fun, x0, args, constraints, \u001b[39m*\u001b[39m\u001b[39m*\u001b[39moptions)\n\u001b[1;32m    630\u001b[0m \u001b[39melif\u001b[39;00m meth \u001b[39m==\u001b[39m \u001b[39m'\u001b[39m\u001b[39mslsqp\u001b[39m\u001b[39m'\u001b[39m:\n\u001b[0;32m--> 631\u001b[0m     \u001b[39mreturn\u001b[39;00m _minimize_slsqp(fun, x0, args, jac, bounds,\n\u001b[1;32m    632\u001b[0m                            constraints, callback\u001b[39m=\u001b[39;49mcallback, \u001b[39m*\u001b[39;49m\u001b[39m*\u001b[39;49moptions)\n\u001b[1;32m    633\u001b[0m \u001b[39melif\u001b[39;00m meth \u001b[39m==\u001b[39m \u001b[39m'\u001b[39m\u001b[39mtrust-constr\u001b[39m\u001b[39m'\u001b[39m:\n\u001b[1;32m    634\u001b[0m     \u001b[39mreturn\u001b[39;00m _minimize_trustregion_constr(fun, x0, args, jac, hess, hessp,\n\u001b[1;32m    635\u001b[0m                                         bounds, constraints,\n\u001b[1;32m    636\u001b[0m                                         callback\u001b[39m=\u001b[39mcallback, \u001b[39m*\u001b[39m\u001b[39m*\u001b[39moptions)\n",
      "File \u001b[0;32m~/.local/lib/python3.8/site-packages/scipy/optimize/slsqp.py:427\u001b[0m, in \u001b[0;36m_minimize_slsqp\u001b[0;34m(func, x0, args, jac, bounds, constraints, maxiter, ftol, iprint, disp, eps, callback, finite_diff_rel_step, **unknown_options)\u001b[0m\n\u001b[1;32m    423\u001b[0m a \u001b[39m=\u001b[39m _eval_con_normals(x, cons, la, n, m, meq, mieq)\n\u001b[1;32m    425\u001b[0m \u001b[39mwhile\u001b[39;00m \u001b[39m1\u001b[39m:\n\u001b[1;32m    426\u001b[0m     \u001b[39m# Call SLSQP\u001b[39;00m\n\u001b[0;32m--> 427\u001b[0m     slsqp(m, meq, x, xl, xu, fx, c, g, a, acc, majiter, mode, w, jw,\n\u001b[1;32m    428\u001b[0m           alpha, f0, gs, h1, h2, h3, h4, t, t0, tol,\n\u001b[1;32m    429\u001b[0m           iexact, incons, ireset, itermx, line,\n\u001b[1;32m    430\u001b[0m           n1, n2, n3)\n\u001b[1;32m    432\u001b[0m     \u001b[39mif\u001b[39;00m mode \u001b[39m==\u001b[39m \u001b[39m1\u001b[39m:  \u001b[39m# objective and constraint evaluation required\u001b[39;00m\n\u001b[1;32m    433\u001b[0m         fx \u001b[39m=\u001b[39m wrapped_fun(x)\n",
      "\u001b[0;31mValueError\u001b[0m: unexpected array size: new_size=1, got array with arr_size=0\n"
     ]
    }
   ],
   "source": [
    "# performing bayes factor analysis\n",
    "with model:\n",
    "    # compute the bayes factor for the model\n",
    "    bf = pm.compare({'model':trace}, ic='WAIC')\n",
    "    print(bf)\n",
    "\n",
    "    "
   ]
  },
  {
   "cell_type": "code",
   "execution_count": 21,
   "metadata": {},
   "outputs": [
    {
     "data": {
      "text/html": [
       "\n",
       "<style>\n",
       "    /* Turns off some styling */\n",
       "    progress {\n",
       "        /* gets rid of default border in Firefox and Opera. */\n",
       "        border: none;\n",
       "        /* Needs to be in here for Safari polyfill so background images work as expected. */\n",
       "        background-size: auto;\n",
       "    }\n",
       "    progress:not([value]), progress:not([value])::-webkit-progress-bar {\n",
       "        background: repeating-linear-gradient(45deg, #7e7e7e, #7e7e7e 10px, #5c5c5c 10px, #5c5c5c 20px);\n",
       "    }\n",
       "    .progress-bar-interrupted, .progress-bar-interrupted::-webkit-progress-bar {\n",
       "        background: #F44336;\n",
       "    }\n",
       "</style>\n"
      ],
      "text/plain": [
       "<IPython.core.display.HTML object>"
      ]
     },
     "metadata": {},
     "output_type": "display_data"
    },
    {
     "data": {
      "text/html": [
       "\n",
       "    <div>\n",
       "      <progress value='35' class='' max='35' style='width:300px; height:20px; vertical-align: middle;'></progress>\n",
       "      100.00% [35/35 00:00&lt;00:00 logp = -1,174.2, ||grad|| = 3.618]\n",
       "    </div>\n",
       "    "
      ],
      "text/plain": [
       "<IPython.core.display.HTML object>"
      ]
     },
     "metadata": {},
     "output_type": "display_data"
    },
    {
     "name": "stdout",
     "output_type": "stream",
     "text": [
      "\n",
      "25     11.581685\n",
      "317     9.569056\n",
      "73     10.875513\n",
      "193    10.259364\n",
      "57     10.037501\n",
      "         ...    \n",
      "258    10.472987\n",
      "3      11.417502\n",
      "77     10.472987\n",
      "240     9.807399\n",
      "60     10.037501\n",
      "Length: 67, dtype: float64\n",
      "25     17\n",
      "317     0\n",
      "73     22\n",
      "193     0\n",
      "57      0\n",
      "       ..\n",
      "258     0\n",
      "3      17\n",
      "77     21\n",
      "240     3\n",
      "60     -2\n",
      "Name: B3_difference_extra, Length: 67, dtype: int64\n",
      "199.88086423600078\n"
     ]
    }
   ],
   "source": [
    "# finding MAP parameter values for the model\n",
    "map_estimate = pm.find_MAP(model=model)\n",
    "map_estimate\n",
    "\n",
    "# perform accuracy test on this test data with MAP parameter values\n",
    "\n",
    "y_pred = map_estimate['b_intercept'] + map_estimate['b_0']*X_test['E22_Age'] + map_estimate['b_1']*X_test['E22_Age_Squared']\n",
    "print(y_pred)\n",
    "print(y_test)\n",
    "print(sk.metrics.mean_squared_error(y_test, y_pred))\n"
   ]
  },
  {
   "cell_type": "code",
   "execution_count": null,
   "metadata": {},
   "outputs": [],
   "source": [
    "# plot r_hat for all parameters\n",
    "az.plot_kde(y)\n",
    "plt.show()\n",
    "# plots of the trace runs performed\n",
    "az.plot_trace(trace)\n",
    "plt.show()\n",
    "az.plot_posterior(trace)\n",
    "plt.show()\n",
    "# az.plot_density(trace)\n",
    "# plt.show()\n",
    "# perform accuracy test on this test dataset\n",
    "az.summary(trace) #summarise our trace run with MCMC"
   ]
  },
  {
   "cell_type": "code",
   "execution_count": null,
   "metadata": {},
   "outputs": [],
   "source": [
    "with model:\n",
    "    ppc = az.from_pymc3(posterior_predictive=pm.sample_posterior_predictive(trace))\n",
    "\n",
    "posterior_samples = ppc.posterior_predictive['y'].values.flatten()\n",
    "plt.hist(posterior_samples, bins=50, density=True, alpha=0.5)\n",
    "plt.show()"
   ]
  }
 ],
 "metadata": {
  "kernelspec": {
   "display_name": "Python 3.8.10 64-bit",
   "language": "python",
   "name": "python3"
  },
  "language_info": {
   "codemirror_mode": {
    "name": "ipython",
    "version": 3
   },
   "file_extension": ".py",
   "mimetype": "text/x-python",
   "name": "python",
   "nbconvert_exporter": "python",
   "pygments_lexer": "ipython3",
   "version": "3.8.10"
  },
  "orig_nbformat": 4,
  "vscode": {
   "interpreter": {
    "hash": "31f2aee4e71d21fbe5cf8b01ff0e069b9275f58929596ceb00d14d90e3e16cd6"
   }
  }
 },
 "nbformat": 4,
 "nbformat_minor": 2
}
